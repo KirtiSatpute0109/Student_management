import tkinter as tk
from tkinter import messagebox, ttk

# Initialize a list to hold student data
students = []

# Create main window
root = tk.Tk()
root.title("Student Management System")
root.geometry("800x600")

# Create tabbed layout
tab_control = ttk.Notebook(root)

# Add "Add Student" tab
add_tab = tk.Frame(tab_control)
tab_control.add(add_tab, text="Add Student")
add_label = tk.Label(add_tab, text="Enter student details:")
add_label.grid(row=0, column=0, columnspan=2)

tk.Label(add_tab, text="Student ID:").grid(row=1, column=0)
entry_student_id = tk.Entry(add_tab)
entry_student_id.grid(row=1, column=1)

tk.Label(add_tab, text="Name:").grid(row=2, column=0)
entry_name = tk.Entry(add_tab)
entry_name.grid(row=2, column=1)

tk.Label(add_tab, text="Age:").grid(row=3, column=0)
entry_age = tk.Entry(add_tab)
entry_age.grid(row=3, column=1)

tk.Label(add_tab, text="Grade:").grid(row=4, column=0)
entry_grade = tk.Entry(add_tab)
entry_grade.grid(row=4, column=1)

# Function to add student
def add_student():
    student_id = entry_student_id.get()
    name = entry_name.get()
    age = entry_age.get()
    grade = entry_grade.get()

    # Store student data in the list
    students.append({
        'ID': student_id,
        'Name': name,
        'Age': age,
        'Grade': grade
    })
    
    print(f"Added Student: {student_id}, {name}, {age}, {grade}")
    messagebox.showinfo("Success", f"Student {name} added successfully!")

add_button = tk.Button(add_tab, text="Add Student", command=add_student)
add_button.grid(row=5, column=0, columnspan=2)

# Add "View Students" tab
view_tab = tk.Frame(tab_control)
tab_control.add(view_tab, text="View Students")

# Function to view students
def view_students():
    if not students:
        messagebox.showinfo("No Data", "No students available to view.")
        return

    # Create a new window to display students
    view_window = tk.Toplevel(root)
    view_window.title("All Students")
    view_window.geometry("500x400")

    # Add headers for the student table
    tk.Label(view_window, text="Student ID").grid(row=0, column=0)
    tk.Label(view_window, text="Name").grid(row=0, column=1)
    tk.Label(view_window, text="Age").grid(row=0, column=2)
    tk.Label(view_window, text="Grade").grid(row=0, column=3)

    # Display the list of students
    for index, student in enumerate(students):
        tk.Label(view_window, text=student['ID']).grid(row=index + 1, column=0)
        tk.Label(view_window, text=student['Name']).grid(row=index + 1, column=1)
        tk.Label(view_window, text=student['Age']).grid(row=index + 1, column=2)
        tk.Label(view_window, text=student['Grade']).grid(row=index + 1, column=3)

view_button = tk.Button(view_tab, text="View All Students", command=view_students)
view_button.pack(padx=10, pady=10)

# Add "Search Student" tab
search_tab = tk.Frame(tab_control)
tab_control.add(search_tab, text="Search Student")
tk.Label(search_tab, text="Enter student ID to search:").pack(padx=10, pady=10)

entry_search_id = tk.Entry(search_tab)
entry_search_id.pack(padx=10, pady=10)

# Function to search for a student
def search_student():
    student_id = entry_search_id.get()
    student_found = None

    # Search the student list
    for student in students:
        if student['ID'] == student_id:
            student_found = student
            break

    if student_found:
        messagebox.showinfo("Search Result", f"Student Found: {student_found['Name']}, Age: {student_found['Age']}, Grade: {student_found['Grade']}")
    else:
        messagebox.showinfo("Not Found", f"No student found with ID {student_id}")

search_button = tk.Button(search_tab, text="Search", command=search_student)
search_button.pack(padx=10, pady=10)

# Add "Update Student" tab
update_tab = tk.Frame(tab_control)
tab_control.add(update_tab, text="Update Student")

tk.Label(update_tab, text="Enter student ID to update:").grid(row=0, column=0, columnspan=2)

entry_update_id = tk.Entry(update_tab)
entry_update_id.grid(row=1, column=0, columnspan=2)

tk.Label(update_tab, text="New Name:").grid(row=2, column=0)
entry_update_name = tk.Entry(update_tab)
entry_update_name.grid(row=2, column=1)

tk.Label(update_tab, text="New Age:").grid(row=3, column=0)
entry_update_age = tk.Entry(update_tab)
entry_update_age.grid(row=3, column=1)

tk.Label(update_tab, text="New Grade:").grid(row=4, column=0)
entry_update_grade = tk.Entry(update_tab)
entry_update_grade.grid(row=4, column=1)

# Function to update student
def update_student():
    student_id = entry_update_id.get()
    new_name = entry_update_name.get()
    new_age = entry_update_age.get()
    new_grade = entry_update_grade.get()

    # Search and update student data
    for student in students:
        if student['ID'] == student_id:
            student['Name'] = new_name
            student['Age'] = new_age
            student['Grade'] = new_grade
            messagebox.showinfo("Success", f"Student {student_id} updated successfully!")
            return

    messagebox.showinfo("Not Found", f"No student found with ID {student_id}")

update_button = tk.Button(update_tab, text="Update Student", command=update_student)
update_button.grid(row=5, column=0, columnspan=2)

# Add "Delete Student" tab
delete_tab = tk.Frame(tab_control)
tab_control.add(delete_tab, text="Delete Student")

tk.Label(delete_tab, text="Enter student ID to delete:").pack(padx=10, pady=10)
entry_delete_id = tk.Entry(delete_tab)
entry_delete_id.pack(padx=10, pady=10)

# Function to delete student
def delete_student():
    student_id = entry_delete_id.get()

    # Search and delete student
    for student in students:
        if student['ID'] == student_id:
            students.remove(student)
            messagebox.showinfo("Success", f"Student {student_id} deleted successfully!")
            return

    messagebox.showinfo("Not Found", f"No student found with ID {student_id}")

delete_button = tk.Button(delete_tab, text="Delete Student", command=delete_student)
delete_button.pack(padx=10, pady=10)

# Add "Exit" button
def exit_program():
    root.quit()

exit_button = tk.Button(root, text="Exit", command=exit_program)
exit_button.pack(pady=10)

# Pack the tab control
tab_control.pack(expand=1, fill="both")

# Run the application
root.mainloop()

